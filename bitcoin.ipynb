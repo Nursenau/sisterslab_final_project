{
 "cells": [
  {
   "cell_type": "markdown",
   "id": "275be440",
   "metadata": {},
   "source": [
    "ilk"
   ]
  },
  {
   "cell_type": "code",
   "execution_count": null,
   "id": "b366ca8f",
   "metadata": {
    "vscode": {
     "languageId": "plaintext"
    }
   },
   "outputs": [],
   "source": []
  }
 ],
 "metadata": {
  "language_info": {
   "name": "python"
  }
 },
 "nbformat": 4,
 "nbformat_minor": 5
}
